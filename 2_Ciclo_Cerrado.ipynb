{
  "nbformat": 4,
  "nbformat_minor": 0,
  "metadata": {
    "colab": {
      "provenance": [],
      "authorship_tag": "ABX9TyOPMFDO1xUSHLBM0jB/NWNi",
      "include_colab_link": true
    },
    "kernelspec": {
      "name": "python3",
      "display_name": "Python 3"
    },
    "language_info": {
      "name": "python"
    }
  },
  "cells": [
    {
      "cell_type": "markdown",
      "metadata": {
        "id": "view-in-github",
        "colab_type": "text"
      },
      "source": [
        "<a href=\"https://colab.research.google.com/github/Edrodriguezcarcamo/Termodinamica/blob/main/2_Ciclo_Cerrado.ipynb\" target=\"_parent\"><img src=\"https://colab.research.google.com/assets/colab-badge.svg\" alt=\"Open In Colab\"/></a>"
      ]
    },
    {
      "cell_type": "markdown",
      "source": [
        "# Problema de Ciclo Cerrado\n",
        "Un sistema que consiste en 1 kg de agua experimenta un ciclo en una bomba de calor compuesto por los siguientes procesos:\n",
        "\n",
        "\n",
        "1.   Proceso 1-2: Calentamiento a volumen constante desde $p_{1}$=5 bar, $T_{1}$=160 °C hasta $p_{2}$=10 bar\n",
        "2.   Proceso 2-3: Enfriamiento a presión constante hasta vapor saturado\n",
        "3.   Proceso 3-4: Enfriamiento a volumen constante hasta $T_{4}$=160 °C\n",
        "4.   Proceso 4-1: Expansión isotérmica con $Q_{4-1}$=815.8 kJ\n",
        "\n",
        "Despreciando los efectos de la energía cinética y potencial, determine el trabajo y la transferencia de calor en kJ del ciclo\n",
        "\n"
      ],
      "metadata": {
        "id": "lmkAmyEbs_Se"
      }
    },
    {
      "cell_type": "code",
      "execution_count": 29,
      "metadata": {
        "colab": {
          "base_uri": "https://localhost:8080/"
        },
        "id": "H4ZrGhbhsYTq",
        "outputId": "e13eb5fa-c3c2-4855-eecc-65cff4f86615"
      },
      "outputs": [
        {
          "output_type": "stream",
          "name": "stdout",
          "text": [
            "Looking in indexes: https://pypi.org/simple, https://us-python.pkg.dev/colab-wheels/public/simple/\n",
            "Requirement already satisfied: CoolProp in /usr/local/lib/python3.10/dist-packages (6.4.3.post1)\n"
          ]
        }
      ],
      "source": [
        "pip install CoolProp"
      ]
    },
    {
      "cell_type": "code",
      "source": [
        "import CoolProp.CoolProp as cp"
      ],
      "metadata": {
        "id": "yKCTWmKSuEdf"
      },
      "execution_count": 30,
      "outputs": []
    },
    {
      "cell_type": "markdown",
      "source": [
        "Se ingresan los datos del enunciado"
      ],
      "metadata": {
        "id": "9wvs8_huut7q"
      }
    },
    {
      "cell_type": "code",
      "source": [
        "fluid = 'water'\n",
        "\n",
        "m = 1 # kg\n",
        "\n",
        "T_1 = 160 + 273.15 # K\n",
        "p_1 = 500000 # Pa\n",
        "\n",
        "p_2 = 1000000 # Pa\n",
        "\n",
        "p_3 = p_2\n",
        "Q_3 = 1\n",
        "\n",
        "T_4 = 160 + 273.15 # K\n",
        "\n",
        "Q_41 = 815.8e3 # J"
      ],
      "metadata": {
        "id": "gSn_QCUfuGU1"
      },
      "execution_count": 31,
      "outputs": []
    },
    {
      "cell_type": "markdown",
      "source": [
        "# Proceso 1-2\n",
        "El trabajo para un proceso isocórico es:\n",
        "\n",
        "$W_{1-2}=0$"
      ],
      "metadata": {
        "id": "wamsM42_wuNe"
      }
    },
    {
      "cell_type": "code",
      "source": [
        "W_12 = 0"
      ],
      "metadata": {
        "id": "3cA2NuAXDoIv"
      },
      "execution_count": 32,
      "outputs": []
    },
    {
      "cell_type": "markdown",
      "source": [
        "Para encontrar la transferencia de energía se debe realizar un balance de energía al proceso 1-2:\n",
        "\n",
        "$Q_{1-2}-W_{1-2}=\\Delta U_{1-2}+\\Delta EC_{1-2}+\\Delta EP_{1-2}$\n",
        "\n",
        "de donde se pueden despreciar la energía cinetica y potencial. Como el trabajo es cero, la ecuación anterior nos queda:\n",
        "\n",
        "$Q_{1-2}=\\Delta U_{1-2}=m(u_{2}-u_{1})$\n",
        "\n",
        "Por lo tanto, para calcular $Q_{1-2}$ se necesitan las energías internas en los estados 1 y 2. Primero, calculemos la energía interna y el volumen específico del estado 1:"
      ],
      "metadata": {
        "id": "8pUvjil1DnJ3"
      }
    },
    {
      "cell_type": "code",
      "source": [
        "v_1 = 1 / cp.PropsSI(\"D\", \"T\", T_1, \"P\", p_1, fluid) # (m3/kg)\n",
        "print(f'Volumen específico 1:  {v_1:.4f} [m3/kg]')\n",
        "\n",
        "u_1 = cp.PropsSI(\"U\", \"T\", T_1, \"P\", p_1, fluid) # (J/kg)\n",
        "print(f'Energía interna 1: {u_1/1000:.2f} [kJ/kg]')"
      ],
      "metadata": {
        "colab": {
          "base_uri": "https://localhost:8080/"
        },
        "id": "IB-SOH2Qvc4E",
        "outputId": "dc5f76b5-f065-4f24-f266-50cb63071062"
      },
      "execution_count": 33,
      "outputs": [
        {
          "output_type": "stream",
          "name": "stdout",
          "text": [
            "Volumen específico 1:  0.3837 [m3/kg]\n",
            "Energía interna 1: 2575.55 [kJ/kg]\n"
          ]
        }
      ]
    },
    {
      "cell_type": "markdown",
      "source": [
        "Para encontrar el volumen 1, se utiliza la siguiente relación:\n",
        "\n",
        "$V_{1}=m\\cdot v_{1}$"
      ],
      "metadata": {
        "id": "sz8QFu8nwKyj"
      }
    },
    {
      "cell_type": "code",
      "source": [
        "V_1 = m * v_1 \n",
        "print(f'Volumen 1: {V_1:.4f} [m3]')"
      ],
      "metadata": {
        "colab": {
          "base_uri": "https://localhost:8080/"
        },
        "id": "EXpmfEfpy5qe",
        "outputId": "fa3d44e4-d009-47d2-8c7a-920711dbb04f"
      },
      "execution_count": 34,
      "outputs": [
        {
          "output_type": "stream",
          "name": "stdout",
          "text": [
            "Volumen 1: 0.3837 [m3]\n"
          ]
        }
      ]
    },
    {
      "cell_type": "markdown",
      "source": [
        "Para poder encontrar la energía interna en el estado 2, se deben tener dos datos. Uno de ellos ya es conocido, la presión 2. El otro valor se encuentra recordando que el proceso se realiza a volumen constante, por lo que:\n",
        "\n",
        "$v_{1}=v_{2}$\n",
        "\n",
        "Por ende, para encontrar la energía interna 2:"
      ],
      "metadata": {
        "id": "XA4qUGAY12-f"
      }
    },
    {
      "cell_type": "code",
      "source": [
        "v_2 = v_1 "
      ],
      "metadata": {
        "id": "sS72fQfG2XC2"
      },
      "execution_count": 35,
      "outputs": []
    },
    {
      "cell_type": "markdown",
      "source": [
        "Por ende, para encontrar la energía interna 2:"
      ],
      "metadata": {
        "id": "fg_wep9O2mkV"
      }
    },
    {
      "cell_type": "code",
      "source": [
        "u_2 = cp.PropsSI(\"U\", \"P\", p_2, \"D\", 1/v_2, fluid) # (J/kg)\n",
        "print(f'Energía interna 2: {u_2/1000:.2f} [kJ/kg]')"
      ],
      "metadata": {
        "colab": {
          "base_uri": "https://localhost:8080/"
        },
        "id": "DfGOS0I02osl",
        "outputId": "addfbafd-4fac-418e-85e0-0d0d607377a0"
      },
      "execution_count": 36,
      "outputs": [
        {
          "output_type": "stream",
          "name": "stdout",
          "text": [
            "Energía interna 2: 3232.59 [kJ/kg]\n"
          ]
        }
      ]
    },
    {
      "cell_type": "markdown",
      "source": [
        "Finalmente, se utiliza la ecuación de balance de energía"
      ],
      "metadata": {
        "id": "CQQEChdW2z4O"
      }
    },
    {
      "cell_type": "code",
      "source": [
        "Q_12 = m * (u_2 - u_1) # J\n",
        "print(f'Q_12: {Q_12/1000:.2f} [kJ]')"
      ],
      "metadata": {
        "colab": {
          "base_uri": "https://localhost:8080/"
        },
        "id": "8NNeI87S3Trn",
        "outputId": "3935ef93-dccb-4fcc-b757-93c89c762b23"
      },
      "execution_count": 37,
      "outputs": [
        {
          "output_type": "stream",
          "name": "stdout",
          "text": [
            "Q_12: 657.04 [kJ]\n"
          ]
        }
      ]
    },
    {
      "cell_type": "markdown",
      "source": [
        "# Proceso 2-3\n",
        "\n",
        "Este es un proceso a presión constante hasta vapor saturado, por lo que el trabajo se calcula de la siguiente forma:\n",
        "\n",
        "$W_{2-3}=\\int_{2}^{3}PdV=P(V_3-V_2)=mP(v_3-v_2)$\n",
        "\n",
        "La transferencia de calor para este proceso queda de la siguiente forma:\n",
        "\n",
        "$Q_{2-3}=m(u_3-u_2)+W_{2-3}$\n",
        "\n",
        "Por ende, se necesitan conocer las energías internas y los volumenes específicos de ambos estados. La energía interna y el volumen del estado 2 ya fue calculado previamente ($u_2$  y $v_2$), por lo que debemos enfocarnos en encontrar las propiedades del estado 3"
      ],
      "metadata": {
        "id": "YYzgHu8e3m1v"
      }
    },
    {
      "cell_type": "code",
      "source": [
        "u_3 = cp.PropsSI(\"U\", \"P\", p_3, \"Q\", 1, fluid) # (J/kg)\n",
        "print(f'Energía interna 3: {u_3/1000:.2f} [kJ/kg]')\n",
        "\n",
        "v_3 = 1 / cp.PropsSI(\"D\", \"P\", p_3, \"Q\", 1, fluid) # (m3/kg)\n",
        "print(f'Volumen específico 3:  {v_3:.4f} [m3/kg]')"
      ],
      "metadata": {
        "colab": {
          "base_uri": "https://localhost:8080/"
        },
        "id": "vmfSiH069O3H",
        "outputId": "89c370ac-c6ce-47ce-e0aa-47af184163c8"
      },
      "execution_count": 38,
      "outputs": [
        {
          "output_type": "stream",
          "name": "stdout",
          "text": [
            "Energía interna 3: 2582.75 [kJ/kg]\n",
            "Volumen específico 3:  0.1944 [m3/kg]\n"
          ]
        }
      ]
    },
    {
      "cell_type": "markdown",
      "source": [
        "Entonces, el trabajo es:"
      ],
      "metadata": {
        "id": "SD2nv3Ih_zWe"
      }
    },
    {
      "cell_type": "code",
      "source": [
        "W_23 = m*p_3*(v_3-v_2) # J\n",
        "print(f'W_23: {W_23/1000:.2f} [kJ]')"
      ],
      "metadata": {
        "colab": {
          "base_uri": "https://localhost:8080/"
        },
        "id": "mvtrKwQ5_10A",
        "outputId": "c86c350a-18af-4490-a4b1-b97fcc03c8b1"
      },
      "execution_count": 39,
      "outputs": [
        {
          "output_type": "stream",
          "name": "stdout",
          "text": [
            "W_23: -189.30 [kJ]\n"
          ]
        }
      ]
    },
    {
      "cell_type": "markdown",
      "source": [
        "La transferencia de calor es:"
      ],
      "metadata": {
        "id": "JA6D9PrVASw_"
      }
    },
    {
      "cell_type": "code",
      "source": [
        "Q_23 = m*(u_3-u_2)+W_23\n",
        "print(f'Q_23: {Q_23/1000:.2f} [kJ]')"
      ],
      "metadata": {
        "colab": {
          "base_uri": "https://localhost:8080/"
        },
        "id": "I_wDUMkWAUeG",
        "outputId": "4da59d66-0970-4a90-def3-68ee77e741a7"
      },
      "execution_count": 40,
      "outputs": [
        {
          "output_type": "stream",
          "name": "stdout",
          "text": [
            "Q_23: -839.15 [kJ]\n"
          ]
        }
      ]
    },
    {
      "cell_type": "markdown",
      "source": [
        "# Proceso 3-4\n",
        "\n",
        "Este proceso es un enfriamiento a volumen constante. Por lo que el trabajo sería:\n",
        "\n",
        "$W_{3-4}=0$"
      ],
      "metadata": {
        "id": "6hzjsVesAfcM"
      }
    },
    {
      "cell_type": "code",
      "source": [
        "W_34 = 0"
      ],
      "metadata": {
        "id": "vKvxw_bpDzmQ"
      },
      "execution_count": 41,
      "outputs": []
    },
    {
      "cell_type": "markdown",
      "source": [
        "La transferencia de calor es la siguiente:\n",
        "\n",
        "$Q_{3-4}=m(u_4-u_3)$\n",
        "\n",
        "Por ende, para encontrar la transferencia de calor nos falta la energía interna 4. Como esto es un proceso a volumen constante, nos queda que:\n",
        "\n",
        "$v_4=v_3$"
      ],
      "metadata": {
        "id": "5Whc9ytMDxl2"
      }
    },
    {
      "cell_type": "code",
      "source": [
        "v_4 = v_3\n",
        "\n",
        "u_4 = cp.PropsSI(\"U\", \"T\", T_4, \"D\", 1/v_4, fluid) # (J/kg)\n",
        "print(f'Energía interna 3: {u_4/1000:.2f} [kJ/kg]')"
      ],
      "metadata": {
        "colab": {
          "base_uri": "https://localhost:8080/"
        },
        "id": "YqUiEdy1BGjb",
        "outputId": "0784a754-571d-49c1-980d-7aeaa8b6c5f9"
      },
      "execution_count": 42,
      "outputs": [
        {
          "output_type": "stream",
          "name": "stdout",
          "text": [
            "Energía interna 3: 1871.59 [kJ/kg]\n"
          ]
        }
      ]
    },
    {
      "cell_type": "markdown",
      "source": [
        "Finalmente, la transferencia de calor es:"
      ],
      "metadata": {
        "id": "RfV-SMI5Bqfw"
      }
    },
    {
      "cell_type": "code",
      "source": [
        "Q_34 = m*(u_4-u_3) # J\n",
        "print(f'Q_34: {Q_34/1000:.2f} [kJ]')"
      ],
      "metadata": {
        "colab": {
          "base_uri": "https://localhost:8080/"
        },
        "id": "vfLWsk6YBt_k",
        "outputId": "94c57511-b75b-4617-e1b1-0eb9e7dfb8af"
      },
      "execution_count": 43,
      "outputs": [
        {
          "output_type": "stream",
          "name": "stdout",
          "text": [
            "Q_34: -711.15 [kJ]\n"
          ]
        }
      ]
    },
    {
      "cell_type": "markdown",
      "source": [
        "# Proceso 4-1\n",
        "\n",
        "Este proceso es una expansión isotérmica donde me dan el flujo de calor:\n",
        "\n",
        "$Q_{4-1}=815.8$ kJ\n"
      ],
      "metadata": {
        "id": "K-SLuSbHB8Xs"
      }
    },
    {
      "cell_type": "code",
      "source": [
        "Q_41 = 815.8e3 # J"
      ],
      "metadata": {
        "id": "iCn5eBr7D8iI"
      },
      "execution_count": 44,
      "outputs": []
    },
    {
      "cell_type": "markdown",
      "source": [
        "Para encontrar el trabajo, se puede utilizar la ecuación de balance de energía:\n",
        "\n",
        "$W_{4-1}=Q_{4-1}-m(u_1-u_4)$\n",
        "\n",
        "Ya tenemos todos los datos necesarios para resolver la ecuación anterior. Por ende:"
      ],
      "metadata": {
        "id": "Yla4ml37D65Y"
      }
    },
    {
      "cell_type": "code",
      "source": [
        "W_41 = Q_41-m*(u_1-u_4) # J\n",
        "print(f'W_41: {W_41/1000:.2f} [kJ]')"
      ],
      "metadata": {
        "colab": {
          "base_uri": "https://localhost:8080/"
        },
        "id": "YKAaWdAsCisw",
        "outputId": "724b787d-db02-4c35-c829-4e82f941ab54"
      },
      "execution_count": 45,
      "outputs": [
        {
          "output_type": "stream",
          "name": "stdout",
          "text": [
            "W_41: 111.85 [kJ]\n"
          ]
        }
      ]
    },
    {
      "cell_type": "markdown",
      "source": [
        "# Trabajo y Transferencia de Calor del Ciclo\n",
        "\n",
        "Ahora que ya tenemos todos los trabajos y flujos de calor de cada estado, podemos calcular estas variables para todo el ciclo. Esto se hace de la siguiente forma:\n",
        "\n",
        "$W_{ciclo}=W_{1-2}+W_{2-3}+W_{3-4}+W_{4-1}$\n",
        "\n",
        "$Q_{ciclo}=Q_{1-2}+Q_{2-3}+Q_{3-4}+Q_{4-1}$"
      ],
      "metadata": {
        "id": "OgConsrjC2CE"
      }
    },
    {
      "cell_type": "code",
      "source": [
        "W_ciclo = W_12 + W_23 + W_34 + W_41\n",
        "print(f'W_ciclo: {W_ciclo/1000:.2f} [kJ]')\n",
        "\n",
        "Q_ciclo = Q_12 + Q_23 + Q_34 + Q_41\n",
        "print(f'Q_ciclo: {Q_ciclo/1000:.2f} [kJ]')"
      ],
      "metadata": {
        "colab": {
          "base_uri": "https://localhost:8080/"
        },
        "id": "DBwsyVNFDR1_",
        "outputId": "b7f6ef9e-9da2-4da1-ca5d-6f815083ff29"
      },
      "execution_count": 46,
      "outputs": [
        {
          "output_type": "stream",
          "name": "stdout",
          "text": [
            "W_ciclo: -77.46 [kJ]\n",
            "Q_ciclo: -77.46 [kJ]\n"
          ]
        }
      ]
    }
  ]
}